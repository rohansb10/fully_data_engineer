{
  "nbformat": 4,
  "nbformat_minor": 0,
  "metadata": {
    "colab": {
      "private_outputs": true,
      "provenance": [],
      "authorship_tag": "ABX9TyMYJtPxDAtnKWmns+28qJEt",
      "include_colab_link": true
    },
    "kernelspec": {
      "name": "python3",
      "display_name": "Python 3"
    },
    "language_info": {
      "name": "python"
    }
  },
  "cells": [
    {
      "cell_type": "markdown",
      "metadata": {
        "id": "view-in-github",
        "colab_type": "text"
      },
      "source": [
        "<a href=\"https://colab.research.google.com/github/rohansb10/fully_data_engineer/blob/main/pyspark.ipynb\" target=\"_parent\"><img src=\"https://colab.research.google.com/assets/colab-badge.svg\" alt=\"Open In Colab\"/></a>"
      ]
    },
    {
      "cell_type": "code",
      "execution_count": null,
      "metadata": {
        "id": "j49Qa7Gzpbd3"
      },
      "outputs": [],
      "source": [
        "from pyspark.sql import SparkSession\n",
        "\n",
        "# Create a SparkSession\n",
        "spark = SparkSession.builder \\\n",
        "    .appName(\"Simple PySpark Example\") \\\n",
        "    .getOrCreate()"
      ]
    },
    {
      "cell_type": "code",
      "source": [
        "import kagglehub\n",
        "from kagglehub import KaggleDatasetAdapter\n",
        "\n",
        "# Set the path to the file you'd like to load\n",
        "file_path = \"sales_data.csv\"\n",
        "\n",
        "# Load the latest version\n",
        "df = kagglehub.load_dataset(\n",
        "  KaggleDatasetAdapter.PANDAS,\n",
        "  \"atomicd/retail-store-inventory-and-demand-forecasting\",\n",
        "  file_path,\n",
        ")\n"
      ],
      "metadata": {
        "id": "yS9IeX0lpk4X"
      },
      "execution_count": null,
      "outputs": []
    },
    {
      "cell_type": "code",
      "source": [
        "spark_df = spark.createDataFrame(df)\n",
        "\n",
        "spark_df.show()"
      ],
      "metadata": {
        "id": "StajB5D-qOaJ"
      },
      "execution_count": null,
      "outputs": []
    },
    {
      "cell_type": "code",
      "source": [
        "spark_df.write.parquet(\"/rohan/input/df_parquet\")"
      ],
      "metadata": {
        "id": "_iAl27EfzOCS"
      },
      "execution_count": null,
      "outputs": []
    },
    {
      "cell_type": "code",
      "source": [
        "df = spark.read.parquet(\"/rohan/input/df_parquet\",header=True, inferSchema=True)"
      ],
      "metadata": {
        "id": "xmvxG4tDpAhJ"
      },
      "execution_count": null,
      "outputs": []
    },
    {
      "cell_type": "code",
      "source": [
        "df.columns"
      ],
      "metadata": {
        "id": "N_Je9r1UKxBk"
      },
      "execution_count": null,
      "outputs": []
    },
    {
      "cell_type": "code",
      "source": [
        "df.printSchema()"
      ],
      "metadata": {
        "id": "rRZyNOMdLmKS"
      },
      "execution_count": null,
      "outputs": []
    },
    {
      "cell_type": "code",
      "source": [
        "df.count()"
      ],
      "metadata": {
        "id": "fLHkLJ5ZL2Xt"
      },
      "execution_count": null,
      "outputs": []
    },
    {
      "cell_type": "code",
      "source": [
        "from pyspark.sql.types import StructType, StructField, StringType, IntegerType, DoubleType, DateType\n",
        "\n",
        "schema = StructType([\n",
        "    StructField(\"Date\", DateType(), True),\n",
        "    StructField(\"Store ID\", IntegerType(), True),\n",
        "    StructField(\"Product ID\", IntegerType(), True),\n",
        "    StructField(\"Category\", StringType(), True),\n",
        "    StructField(\"Region\", StringType(), True),\n",
        "    StructField(\"Inventory Level\", IntegerType(), True),\n",
        "    StructField(\"Units Sold\", IntegerType(), True),\n",
        "    StructField(\"Units Ordered\", IntegerType(), True),\n",
        "    StructField(\"Price\", DoubleType(), True),\n",
        "    StructField(\"Discount\", DoubleType(), True),\n",
        "    StructField(\"Weather Condition\", StringType(), True),\n",
        "    StructField(\"Promotion\", StringType(), True),\n",
        "    StructField(\"Competitor Pricing\", DoubleType(), True),\n",
        "    StructField(\"Seasonality\", StringType(), True),\n",
        "    StructField(\"Epidemic\", StringType(), True),\n",
        "    StructField(\"Demand\", IntegerType(), True)\n",
        "])"
      ],
      "metadata": {
        "id": "tgo4ATKdMKKW"
      },
      "execution_count": null,
      "outputs": []
    },
    {
      "cell_type": "code",
      "source": [
        "from pyspark.sql.functions import date_format\n",
        "\n",
        "df.withColumn(\"Month\", date_format(\"Date\", \"yyyy-MM\")) \\\n",
        "  .groupBy(\"Month\") \\\n",
        "  .sum(\"Units Sold\") \\\n",
        "  .orderBy(\"Month\") \\\n",
        "  .show()"
      ],
      "metadata": {
        "id": "ePfKdgJFpx4E"
      },
      "execution_count": null,
      "outputs": []
    },
    {
      "cell_type": "code",
      "source": [
        "# By Product\n",
        "df.groupBy(\"Product ID\")\\\n",
        "          .sum(\"Units Sold\")\\\n",
        "          .orderBy(\"sum(Units Sold)\", ascending=False)\\\n",
        "          .withColumnRenamed(\"sum(Units Sold)\", \"Total Units Sold\")\\\n",
        "          .show()"
      ],
      "metadata": {
        "id": "HZynpsv0q7sA"
      },
      "execution_count": null,
      "outputs": []
    },
    {
      "cell_type": "code",
      "source": [
        "df.show(3)"
      ],
      "metadata": {
        "id": "XDj1s1dkq7ow"
      },
      "execution_count": null,
      "outputs": []
    },
    {
      "cell_type": "code",
      "source": [
        "from pyspark.sql.functions import sum, desc ,avg\n",
        "\n",
        "top_products = df.groupBy(\"Category\").agg(sum(\"Units Sold\").alias(\"Total Sold\"))\n",
        "top_products.orderBy(desc(\"Total Sold\")).show(5)"
      ],
      "metadata": {
        "id": "bbaCONlcq7jt"
      },
      "execution_count": null,
      "outputs": []
    },
    {
      "cell_type": "code",
      "source": [
        "region_demand = df.groupBy(\"Region\").agg(avg(\"Demand\").alias(\"Avg Demand\"))\n",
        "region_demand.orderBy(desc(\"Avg Demand\")).show()"
      ],
      "metadata": {
        "id": "nQei0aAk4B3I"
      },
      "execution_count": null,
      "outputs": []
    },
    {
      "cell_type": "markdown",
      "source": [
        "# sql"
      ],
      "metadata": {
        "id": "UYBRrtWD4fia"
      }
    },
    {
      "cell_type": "code",
      "source": [
        "df.createOrReplaceTempView(\"retail_data\")"
      ],
      "metadata": {
        "id": "x105NMye2O_g"
      },
      "execution_count": null,
      "outputs": []
    },
    {
      "cell_type": "code",
      "source": [
        "spark.sql(\"\"\"\n",
        "SELECT `Product ID`, SUM(`Units Sold`) AS Total_Units_Sold\n",
        "FROM retail_data\n",
        "GROUP BY `Product ID`\n",
        "ORDER BY Total_Units_Sold DESC\n",
        "LIMIT 5\n",
        "\"\"\").show()\n"
      ],
      "metadata": {
        "id": "mSbN_5yk4ovW"
      },
      "execution_count": null,
      "outputs": []
    },
    {
      "cell_type": "code",
      "source": [
        "spark.sql(\"\"\"\n",
        "SELECT Seasonality, AVG(Demand) AS Avg_Demands\n",
        "FROM retail_data\n",
        "GROUP BY Seasonality\n",
        "ORDER BY Avg_Demands DESC\n",
        "\"\"\").show()\n"
      ],
      "metadata": {
        "id": "HeI2H5Oa4or1"
      },
      "execution_count": null,
      "outputs": []
    },
    {
      "cell_type": "code",
      "source": [],
      "metadata": {
        "id": "YwHI4Zce4oo2"
      },
      "execution_count": null,
      "outputs": []
    },
    {
      "cell_type": "markdown",
      "source": [
        "#git"
      ],
      "metadata": {
        "id": "RmxRlWffZ88c"
      }
    },
    {
      "cell_type": "code",
      "source": [
        "import requests\n",
        "\n",
        "# Download the file\n",
        "url = \"https://raw.githubusercontent.com/rohansb10/fully_data_engineer/main/data/data.csv\"\n",
        "with open(\"data.csv\", \"wb\") as f:\n",
        "    f.write(requests.get(url).content)\n",
        "\n",
        "# Then load it with Spark\n",
        "df = spark.read.csv(\"data.csv\", header=True, inferSchema=True)\n",
        "df.show()\n"
      ],
      "metadata": {
        "id": "z3Q_o69LZ8cr"
      },
      "execution_count": null,
      "outputs": []
    },
    {
      "cell_type": "code",
      "source": [
        "df.count()"
      ],
      "metadata": {
        "id": "HlGIEkb-aCyU"
      },
      "execution_count": null,
      "outputs": []
    },
    {
      "cell_type": "code",
      "source": [],
      "metadata": {
        "id": "I7BbnIbYafk4"
      },
      "execution_count": null,
      "outputs": []
    }
  ]
}